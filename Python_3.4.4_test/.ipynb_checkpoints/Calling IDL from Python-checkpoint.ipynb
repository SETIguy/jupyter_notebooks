{
 "cells": [
  {
   "cell_type": "code",
   "execution_count": 5,
   "metadata": {
    "collapsed": false
   },
   "outputs": [
    {
     "name": "stdout",
     "output_type": "stream",
     "text": [
      "0.50134766505826101 0.28906747893157142\n"
     ]
    }
   ],
   "source": [
    "import numpy as np \n",
    "import numpy.random as ran\n",
    "\n",
    "\n",
    "a=ran.rand(100000)\n",
    "\n",
    "print (repr(np.mean(a))+' '+repr(np.std(a)))\n",
    "\n",
    "\n"
   ]
  },
  {
   "cell_type": "code",
   "execution_count": 7,
   "metadata": {
    "collapsed": false
   },
   "outputs": [
    {
     "name": "stdout",
     "output_type": "stream",
     "text": [
      "0.49947143282514844 0.28833202414271808\n"
     ]
    }
   ],
   "source": [
    "import numpy as np\n",
    "from idlpy import IDL\n",
    "\n",
    "seed=IDL.systime(seconds=1)\n",
    "b=IDL.randomu(seed,100000,double=1)\n",
    "\n",
    "\n",
    "print (repr(np.mean(b))+' '+repr(np.std(b)))\n"
   ]
  },
  {
   "cell_type": "code",
   "execution_count": null,
   "metadata": {
    "collapsed": true
   },
   "outputs": [],
   "source": []
  }
 ],
 "metadata": {
  "kernelspec": {
   "display_name": "Python 3",
   "language": "python",
   "name": "python3"
  },
  "language_info": {
   "codemirror_mode": {
    "name": "ipython",
    "version": 3
   },
   "file_extension": ".py",
   "mimetype": "text/x-python",
   "name": "python",
   "nbconvert_exporter": "python",
   "pygments_lexer": "ipython3",
   "version": "3.4.4"
  }
 },
 "nbformat": 4,
 "nbformat_minor": 0
}
