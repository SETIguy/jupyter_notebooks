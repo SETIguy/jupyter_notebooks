{
 "cells": [
  {
   "cell_type": "markdown",
   "id": "3d7d7701-6964-4a25-ade4-0401977110d0",
   "metadata": {},
   "source": [
    "# Introduction"
   ]
  },
  {
   "cell_type": "markdown",
   "id": "47cdd031-c855-415d-8913-64db0e103700",
   "metadata": {},
   "source": [
    "This is a comparison of the SETI@home doppler drift code against the phython code."
   ]
  },
  {
   "cell_type": "markdown",
   "id": "e7374973-4b3b-429a-ae31-d187593180c4",
   "metadata": {},
   "source": [
    "First some helper code...  This returns the barycentric velocity correction in a specific direction."
   ]
  },
  {
   "cell_type": "code",
   "execution_count": 1,
   "id": "93e2fc7f-def0-4457-a40b-42417ddbba17",
   "metadata": {},
   "outputs": [],
   "source": [
    "# corrs.py\n",
    "import math\n",
    "from astropy.time import Time\n",
    "from astropy.coordinates import SkyCoord, solar_system, EarthLocation, ICRS, CartesianRepresentation, UnitSphericalRepresentation\n",
    "from astropy import units as u\n",
    "\n",
    "\n",
    "def velcorr(time, skycoord, location=None):\n",
    "  \"\"\"Barycentric velocity correction.\n",
    "  \n",
    "  Uses the ephemeris set with  ``astropy.coordinates.solar_system_ephemeris.set`` for corrections. \n",
    "  For more information see `~astropy.coordinates.solar_system_ephemeris`.\n",
    "  \n",
    "  Parameters\n",
    "  ----------\n",
    "  time : `~astropy.time.Time`\n",
    "    The time of observation.\n",
    "  skycoord: `~astropy.coordinates.SkyCoord`\n",
    "    The sky location to calculate the correction for.\n",
    "  location: `~astropy.coordinates.EarthLocation`, optional\n",
    "    The location of the observatory to calculate the correction for.\n",
    "    If no location is given, the ``location`` attribute of the Time\n",
    "    object is used\n",
    "    \n",
    "  Returns\n",
    "  -------\n",
    "  vel_corr : `~astropy.units.Quantity`\n",
    "    The velocity correction to convert to Barycentric velocities. Should be added to the original\n",
    "    velocity.\n",
    "  \"\"\"\n",
    "  \n",
    "  if location is None:\n",
    "    if time.location is None:\n",
    "        raise ValueError('An EarthLocation needs to be set or passed '\n",
    "                         'in to calculate bary- or heliocentric '\n",
    "                         'corrections')\n",
    "    location = time.location\n",
    "  \n",
    "  ep, ev = solar_system.get_body_barycentric_posvel('earth', time) # ICRS position and velocity of Earth's geocenter\n",
    "  op, ov = location.get_gcrs_posvel(time) # GCRS position and velocity of observatory\n",
    "  # ICRS and GCRS are axes-aligned. Can add the velocities\n",
    "  velocity = ev + ov # relies on PR5434 being merged\n",
    "  \n",
    "  # get unit ICRS vector in direction of SkyCoord\n",
    "  sc_cartesian = skycoord.icrs.represent_as(UnitSphericalRepresentation).represent_as(CartesianRepresentation)\n",
    "  return sc_cartesian.dot(velocity).to(u.km/u.s) # similarly requires PR5434\n"
   ]
  },
  {
   "cell_type": "markdown",
   "id": "2de6ff26-d62b-4fa2-b1a9-ab116ca65a86",
   "metadata": {},
   "source": [
    "\n",
    "The SETI@home code uses the Arecibo observatory corrdinates (both astronomical and geodetic).  This only has\n",
    "one coordinate possible so we'll use the Arecibo geodetic coordinates."
   ]
  },
  {
   "cell_type": "code",
   "execution_count": 2,
   "id": "f63af57e-eca3-4ada-ab77-a8b7b084baa9",
   "metadata": {},
   "outputs": [
    {
     "data": {
      "text/plain": [
       "GeodeticLocation(lon=<Longitude -66.75277778 deg>, lat=<Latitude 18.34416667 deg>, height=<Quantity 497. m>)"
      ]
     },
     "execution_count": 2,
     "metadata": {},
     "output_type": "execute_result"
    }
   ],
   "source": [
    "AO=EarthLocation.of_site(\"Arecibo Observatory\")\n",
    "AO.geodetic\n"
   ]
  },
  {
   "cell_type": "markdown",
   "id": "dab93d67-d3fc-41a0-8d29-f7a528c9f724",
   "metadata": {},
   "source": [
    "\n",
    "Just a note that this doesn't match the geodetic coordinates that I've been using, which proably means that they are using a different ellipsoid than I use.  It shouldn't make a difference if everything is consistent.  It is also different than the Astronomical coordinates used for determining where Arecibo was pointing.  The gravitational acceleration is not perpendicular to the ellipsoid at Arecibo.  This is also likely to be true at FAST, but it is my understanding that at FAST the direction of the gravity is ignored and geodetic coordinates are used for astronomical positions.\n",
    "\n",
    "Next we need something to look at, and a time.  I've pulled the 1 billionth workunit generated for SETI@home and am taking its time and coordinates\n",
    "JD=2455628.794039 RA(hours)=13.65615430833, Dec(deg)=33.23895434779"
   ]
  },
  {
   "cell_type": "code",
   "execution_count": 3,
   "id": "b9666ab5-cbb7-4447-a05a-5fe81d149a08",
   "metadata": {},
   "outputs": [
    {
     "data": {
      "text/plain": [
       "<SkyCoord (ICRS): (ra, dec) in deg\n",
       "    (204.84231462, 33.23895435)>"
      ]
     },
     "execution_count": 3,
     "metadata": {},
     "output_type": "execute_result"
    }
   ],
   "source": [
    "pos=SkyCoord(13.65615430833*15,33.23895434779,unit=\"deg\",equinox=\"J2000\",obstime=Time(2455628.794039,format=\"jd\",location=AO))\n",
    "pos"
   ]
  },
  {
   "cell_type": "code",
   "execution_count": 4,
   "id": "4589fe20-1436-4e8d-8f4e-16ed8cbf3be5",
   "metadata": {},
   "outputs": [
    {
     "data": {
      "text/plain": [
       "<Time object: scale='utc' format='jd' value=2455628.794039>"
      ]
     },
     "execution_count": 4,
     "metadata": {},
     "output_type": "execute_result"
    }
   ],
   "source": [
    "pos.obstime"
   ]
  },
  {
   "cell_type": "markdown",
   "id": "1538f8be-85d5-4d90-be83-d15a23fa33e8",
   "metadata": {},
   "source": [
    "OK, now lets get the barycentric correction"
   ]
  },
  {
   "cell_type": "code",
   "execution_count": 5,
   "id": "f49c2d63-c53a-4c0e-9133-72ff3e740a58",
   "metadata": {},
   "outputs": [
    {
     "data": {
      "text/latex": [
       "$8.4175824 \\; \\mathrm{\\frac{km}{s}}$"
      ],
      "text/plain": [
       "<Quantity 8.41758242 km / s>"
      ]
     },
     "execution_count": 5,
     "metadata": {},
     "output_type": "execute_result"
    }
   ],
   "source": [
    "corr=velcorr(pos.obstime,pos)\n",
    "corr"
   ]
  },
  {
   "cell_type": "markdown",
   "id": "3bc7f74a-d97a-4b0d-9cd9-a8d1e91dfa0c",
   "metadata": {},
   "source": [
    "So according to the comments, this is the correction the velocity of an astronomical object.  So if a star was measured to have a radial velocity of zero, its corrected velocity would be +8.4 km/s with respect to the barycenter and we would expect its observed radio frequency to be $\\frac{c+8.4\\frac{\\rm km}{\\rm s}}{c} \\nu_o$ where $\\nu_o$ is the emitted frequency.  In other words the observed emission is blue shifted.  So for an emitted frequency of 1.420 GHz, the observed frequency would be...."
   ]
  },
  {
   "cell_type": "code",
   "execution_count": 6,
   "id": "2dbdc90d-866d-4e44-aa6b-867b479f75bd",
   "metadata": {},
   "outputs": [
    {
     "data": {
      "text/plain": [
       "'1.42003987136610e+09 1 / s'"
      ]
     },
     "execution_count": 6,
     "metadata": {},
     "output_type": "execute_result"
    }
   ],
   "source": [
    "c=299792458*u.meter/u.second\n",
    "nu_corr=math.sqrt((1+corr/c)/(1-corr/c))\n",
    "nu=1.420e+9*u.Hz\n",
    "nu1=nu*nu_corr\n",
    "nu1.decompose().to_string(precision=14)\n"
   ]
  },
  {
   "cell_type": "markdown",
   "id": "51094dc1-c924-4b56-b4c4-362508f38bc8",
   "metadata": {},
   "source": [
    "If we want the doppler drift rate due to the motion of the earth we need to do the same calculation before an after the point.\n"
   ]
  },
  {
   "cell_type": "code",
   "execution_count": 7,
   "id": "035b206e-1915-407f-a6cb-d496056d765f",
   "metadata": {},
   "outputs": [
    {
     "data": {
      "text/latex": [
       "$-0.14821716 \\; \\mathrm{\\frac{1}{s^{2}}}$"
      ],
      "text/plain": [
       "<Quantity -0.14821716 1 / s2>"
      ]
     },
     "execution_count": 7,
     "metadata": {},
     "output_type": "execute_result"
    }
   ],
   "source": [
    "#two points a second apart\n",
    "corr0=velcorr(pos.obstime-0.5*u.second,pos)\n",
    "corr1=velcorr(pos.obstime+0.5*u.second,pos)\n",
    "nu_corr0=math.sqrt((1+corr0/c)/(1-corr0/c))\n",
    "nu_corr1=math.sqrt((1+corr1/c)/(1-corr1/c))\n",
    "drift=nu*(nu_corr1-nu_corr0)/u.second\n",
    "drift.decompose()\n"
   ]
  },
  {
   "cell_type": "markdown",
   "id": "12bf2a08-bddc-464b-bf72-2bec3e1c16f0",
   "metadata": {},
   "source": [
    "Since the doppler drift is dominated by the Earth's rotation which is an acceleration toward the axis, and telescopes usually point up, the drift rate will almost always be negative."
   ]
  },
  {
   "cell_type": "markdown",
   "id": "e3771fc6-91e0-42cf-910e-740a3876991b",
   "metadata": {},
   "source": [
    "Now lets compare the SETI@home doppler code.  The program to calculate an observed frequency from a barycentric frequency is called \"detection_frequency\""
   ]
  },
  {
   "cell_type": "markdown",
   "id": "afc9e2d7-bda3-491c-ac84-727d704802a9",
   "metadata": {},
   "source": [
    "> % ./detection_freq -jd 2455628.794039 -ra 13.65615430833 -decl 33.23895434779 -baryfreq 1420000000 -epoch 2000.0\n",
    "\n",
    "> JD 2455628.794039 LST 13.649352 RA 13.656154 Declination 33.238954 detection frequency 1420039875.533216 barycentric frequency 1420000000.000000 offset (bary-det) -39875.533216 barycentric chirp -0.148083\n"
   ]
  },
  {
   "cell_type": "markdown",
   "id": "135f3220-f611-4059-8015-c05151e84950",
   "metadata": {},
   "source": [
    "So there are some small differences in the acceleration model used.  Frequencies differ by 5 Hz and drift rates by a part in $10^{-4}$.  That shouldn't be big enough to cause a problem because our detection windows are much larger than that.  So we should be able to use the astropy routines.\n"
   ]
  },
  {
   "cell_type": "markdown",
   "id": "aeb8e89b-feff-4bf9-8e19-1877a4ab0327",
   "metadata": {},
   "source": [
    "# Application to a Work Unit"
   ]
  },
  {
   "cell_type": "code",
   "execution_count": null,
   "id": "662c41b8-d7c6-4773-8d6b-f39a484ca585",
   "metadata": {},
   "outputs": [],
   "source": []
  }
 ],
 "metadata": {
  "kernelspec": {
   "display_name": "Python 3 (ipykernel)",
   "language": "python",
   "name": "python3"
  },
  "language_info": {
   "codemirror_mode": {
    "name": "ipython",
    "version": 3
   },
   "file_extension": ".py",
   "mimetype": "text/x-python",
   "name": "python",
   "nbconvert_exporter": "python",
   "pygments_lexer": "ipython3",
   "version": "3.10.10"
  }
 },
 "nbformat": 4,
 "nbformat_minor": 5
}
