{
 "cells": [
  {
   "cell_type": "markdown",
   "id": "c5df05b8-b67d-4348-a346-c73e8f801bce",
   "metadata": {},
   "source": [
    "# Introduction"
   ]
  },
  {
   "cell_type": "markdown",
   "id": "47cdd031-c855-415d-8913-64db0e103700",
   "metadata": {},
   "source": [
    "This is a comparison of the SETI@home doppler drift code against the phython code."
   ]
  },
  {
   "cell_type": "markdown",
   "id": "e7374973-4b3b-429a-ae31-d187593180c4",
   "metadata": {},
   "source": [
    "First some helper code...  This returns the barycentric velocity correction in a specific direction."
   ]
  },
  {
   "cell_type": "code",
   "execution_count": 219,
   "id": "93e2fc7f-def0-4457-a40b-42417ddbba17",
   "metadata": {},
   "outputs": [],
   "source": [
    "# corrs.py\n",
    "import math\n",
    "import numpy as np\n",
    "from astropy.time import Time\n",
    "from astropy.coordinates import SkyCoord, solar_system, EarthLocation, ICRS, CartesianRepresentation, UnitSphericalRepresentation\n",
    "from astropy import units as u\n",
    "\n",
    "\n",
    "\n",
    "def velcorr(time, skycoord, location=None):\n",
    "  \"\"\"Barycentric velocity correction.\n",
    "  \n",
    "  Uses the ephemeris set with  ``astropy.coordinates.solar_system_ephemeris.set`` for corrections. \n",
    "  For more information see `~astropy.coordinates.solar_system_ephemeris`.\n",
    "  \n",
    "  Parameters\n",
    "  ----------\n",
    "  time : `~astropy.time.Time`\n",
    "    The time of observation.\n",
    "  skycoord: `~astropy.coordinates.SkyCoord`\n",
    "    The sky location to calculate the correction for.\n",
    "  location: `~astropy.coordinates.EarthLocation`, optional\n",
    "    The location of the observatory to calculate the correction for.\n",
    "    If no location is given, the ``location`` attribute of the Time\n",
    "    object is used\n",
    "    \n",
    "  Returns\n",
    "  -------\n",
    "  vel_corr : `~astropy.units.Quantity`\n",
    "    The velocity correction to convert to Barycentric velocities. Should be added to the original\n",
    "    velocity.\n",
    "  \"\"\"\n",
    "  \n",
    "  if location is None:\n",
    "    if time.location is None:\n",
    "        raise ValueError('An EarthLocation needs to be set or passed '\n",
    "                         'in to calculate bary- or heliocentric '\n",
    "                         'corrections')\n",
    "    location = time.location\n",
    "  \n",
    "  ep, ev = solar_system.get_body_barycentric_posvel('earth', time) # ICRS position and velocity of Earth's geocenter\n",
    "  op, ov = location.get_gcrs_posvel(time) # GCRS position and velocity of observatory\n",
    "  # ICRS and GCRS are axes-aligned. Can add the velocities\n",
    "  velocity = ev + ov # relies on PR5434 being merged\n",
    "  \n",
    "  # get unit ICRS vector in direction of SkyCoord\n",
    "  sc_cartesian = skycoord.icrs.represent_as(UnitSphericalRepresentation).represent_as(CartesianRepresentation)\n",
    "  return sc_cartesian.dot(velocity).to(u.km/u.s) # similarly requires PR5434\n"
   ]
  },
  {
   "cell_type": "markdown",
   "id": "2de6ff26-d62b-4fa2-b1a9-ab116ca65a86",
   "metadata": {},
   "source": [
    "\n",
    "The SETI@home code uses the Arecibo observatory corrdinates (both astronomical and geodetic).  This only has\n",
    "one coordinate possible so we'll use the Arecibo geodetic coordinates."
   ]
  },
  {
   "cell_type": "code",
   "execution_count": 220,
   "id": "f63af57e-eca3-4ada-ab77-a8b7b084baa9",
   "metadata": {},
   "outputs": [
    {
     "data": {
      "text/plain": [
       "GeodeticLocation(lon=<Longitude -66.75277778 deg>, lat=<Latitude 18.34416667 deg>, height=<Quantity 497. m>)"
      ]
     },
     "execution_count": 220,
     "metadata": {},
     "output_type": "execute_result"
    }
   ],
   "source": [
    "AO=EarthLocation.of_site(\"Arecibo Observatory\")\n",
    "AO.geodetic\n"
   ]
  },
  {
   "cell_type": "markdown",
   "id": "dab93d67-d3fc-41a0-8d29-f7a528c9f724",
   "metadata": {},
   "source": [
    "\n",
    "Just a note that this doesn't match the geodetic coordinates that I've been using, which proably means that they are using a different ellipsoid than I use.  It shouldn't make a difference if everything is consistent.  It is also different than the Astronomical coordinates used for determining where Arecibo was pointing.  The gravitational acceleration is not perpendicular to the ellipsoid at Arecibo.  This is also likely to be true at FAST, but it is my understanding that at FAST the direction of the gravity is ignored and geodetic coordinates are used for astronomical positions.\n",
    "\n",
    "Next we need something to look at, and a time.  I've pulled the 1 billionth workunit generated for SETI@home and am taking its time and coordinates\n",
    "JD=2455628.794039 RA(hours)=13.65615430833, Dec(deg)=33.23895434779"
   ]
  },
  {
   "cell_type": "code",
   "execution_count": 221,
   "id": "b9666ab5-cbb7-4447-a05a-5fe81d149a08",
   "metadata": {},
   "outputs": [
    {
     "data": {
      "text/plain": [
       "<SkyCoord (ICRS): (ra, dec) in deg\n",
       "    (204.84231462, 33.23895435)>"
      ]
     },
     "execution_count": 221,
     "metadata": {},
     "output_type": "execute_result"
    }
   ],
   "source": [
    "pos=SkyCoord(13.65615430833*15,33.23895434779,unit=\"deg\",equinox=\"J2000\",obstime=Time(2455628.794039,format=\"jd\",location=AO))\n",
    "pos"
   ]
  },
  {
   "cell_type": "code",
   "execution_count": 222,
   "id": "4589fe20-1436-4e8d-8f4e-16ed8cbf3be5",
   "metadata": {},
   "outputs": [
    {
     "data": {
      "text/plain": [
       "<Time object: scale='utc' format='jd' value=2455628.794039>"
      ]
     },
     "execution_count": 222,
     "metadata": {},
     "output_type": "execute_result"
    }
   ],
   "source": [
    "pos.obstime"
   ]
  },
  {
   "cell_type": "markdown",
   "id": "1538f8be-85d5-4d90-be83-d15a23fa33e8",
   "metadata": {},
   "source": [
    "OK, now lets get the barycentric correction"
   ]
  },
  {
   "cell_type": "code",
   "execution_count": 223,
   "id": "f49c2d63-c53a-4c0e-9133-72ff3e740a58",
   "metadata": {},
   "outputs": [
    {
     "data": {
      "text/latex": [
       "$8.4175824 \\; \\mathrm{\\frac{km}{s}}$"
      ],
      "text/plain": [
       "<Quantity 8.41758242 km / s>"
      ]
     },
     "execution_count": 223,
     "metadata": {},
     "output_type": "execute_result"
    }
   ],
   "source": [
    "corr=velcorr(pos.obstime,pos)\n",
    "corr"
   ]
  },
  {
   "cell_type": "markdown",
   "id": "3bc7f74a-d97a-4b0d-9cd9-a8d1e91dfa0c",
   "metadata": {},
   "source": [
    "So according to the comments, this is the correction the velocity of an astronomical object.  So if a star was measured to have a radial velocity of zero, its corrected velocity would be +8.4 km/s with respect to the barycenter and we would expect its observed radio frequency to be $\\frac{c+8.4\\frac{\\rm km}{\\rm s}}{c} \\nu_o$ where $\\nu_o$ is the emitted frequency.  In other words the observed emission is blue shifted.  So for an emitted frequency of 1.420 GHz, the observed frequency would be...."
   ]
  },
  {
   "cell_type": "code",
   "execution_count": 224,
   "id": "2dbdc90d-866d-4e44-aa6b-867b479f75bd",
   "metadata": {},
   "outputs": [
    {
     "data": {
      "text/plain": [
       "'1.42003987136610e+09 1 / s'"
      ]
     },
     "execution_count": 224,
     "metadata": {},
     "output_type": "execute_result"
    }
   ],
   "source": [
    "c=299792458*u.meter/u.second\n",
    "nu_corr=math.sqrt((1+corr/c)/(1-corr/c))\n",
    "nu=1.420e+9*u.Hz\n",
    "nu1=nu*nu_corr\n",
    "nu1.decompose().to_string(precision=14)\n"
   ]
  },
  {
   "cell_type": "markdown",
   "id": "51094dc1-c924-4b56-b4c4-362508f38bc8",
   "metadata": {},
   "source": [
    "If we want the doppler drift rate due to the motion of the earth we need to do the same calculation before an after the point.\n"
   ]
  },
  {
   "cell_type": "code",
   "execution_count": 225,
   "id": "035b206e-1915-407f-a6cb-d496056d765f",
   "metadata": {},
   "outputs": [
    {
     "data": {
      "text/latex": [
       "$-0.14821716 \\; \\mathrm{\\frac{1}{s^{2}}}$"
      ],
      "text/plain": [
       "<Quantity -0.14821716 1 / s2>"
      ]
     },
     "execution_count": 225,
     "metadata": {},
     "output_type": "execute_result"
    }
   ],
   "source": [
    "#two points a second apart\n",
    "corr0=velcorr(pos.obstime-0.5*u.second,pos)\n",
    "corr1=velcorr(pos.obstime+0.5*u.second,pos)\n",
    "nu_corr0=math.sqrt((1+corr0/c)/(1-corr0/c))\n",
    "nu_corr1=math.sqrt((1+corr1/c)/(1-corr1/c))\n",
    "drift=nu*(nu_corr1-nu_corr0)/u.second\n",
    "drift.decompose()\n"
   ]
  },
  {
   "cell_type": "markdown",
   "id": "12bf2a08-bddc-464b-bf72-2bec3e1c16f0",
   "metadata": {},
   "source": [
    "Since the doppler drift is dominated by the Earth's rotation which is an acceleration toward the axis, and telescopes usually point up, the drift rate will almost always be negative."
   ]
  },
  {
   "cell_type": "markdown",
   "id": "e3771fc6-91e0-42cf-910e-740a3876991b",
   "metadata": {},
   "source": [
    "Now lets compare the SETI@home doppler code.  The program to calculate an observed frequency from a barycentric frequency is called \"detection_frequency\""
   ]
  },
  {
   "cell_type": "markdown",
   "id": "afc9e2d7-bda3-491c-ac84-727d704802a9",
   "metadata": {},
   "source": [
    "> % ./detection_freq -jd 2455628.794039 -ra 13.65615430833 -decl 33.23895434779 -baryfreq 1420000000 -epoch 2000.0\n",
    "\n",
    "> JD 2455628.794039 LST 13.649352 RA 13.656154 Declination 33.238954 detection frequency 1420039875.533216 barycentric frequency 1420000000.000000 offset (bary-det) -39875.533216 barycentric chirp -0.148083\n"
   ]
  },
  {
   "cell_type": "markdown",
   "id": "135f3220-f611-4059-8015-c05151e84950",
   "metadata": {},
   "source": [
    "So there are some small differences in the acceleration model used.  Frequencies differ by 5 Hz and drift rates by a part in $10^{-4}$.  That shouldn't be big enough to cause a problem because our detection windows are much larger than that.  So we should be able to use the astropy routines.\n"
   ]
  },
  {
   "cell_type": "markdown",
   "id": "aeb8e89b-feff-4bf9-8e19-1877a4ab0327",
   "metadata": {},
   "source": [
    "# Application to a Work Unit"
   ]
  },
  {
   "cell_type": "markdown",
   "id": "6a42870c-c9c3-437b-83b8-995719e640db",
   "metadata": {},
   "source": [
    "I've put a workunit in the directory with this called \"work_unit.sah.\"  We'll read it and use the appropriate fields to calculate the\n",
    "barycentric doppler drift rate of the observation... "
   ]
  },
  {
   "cell_type": "markdown",
   "id": "2aa1633b-8b9d-47e3-a93c-7e548b6bddcc",
   "metadata": {},
   "source": [
    "Someone needs to write a function that will read a workunit and all it's parameters...  Since that doesn't yet exist\n",
    "we will look at the parameters manually.\n"
   ]
  },
  {
   "cell_type": "markdown",
   "id": "08e34ce2-78bd-4fdf-865b-2c048f73073a",
   "metadata": {},
   "source": [
    "Does astropy have the FAST coordinates correct?  This should match what is in the workunit header."
   ]
  },
  {
   "cell_type": "code",
   "execution_count": 226,
   "id": "63443ead-786f-4b42-80bb-0ac7632f5a4b",
   "metadata": {},
   "outputs": [
    {
     "data": {
      "text/plain": [
       "GeodeticLocation(lon=<Longitude 106.85666642 deg>, lat=<Latitude 25.65294616 deg>, height=<Quantity 1109.10232229 m>)"
      ]
     },
     "execution_count": 226,
     "metadata": {},
     "output_type": "execute_result"
    }
   ],
   "source": [
    "FAST=EarthLocation.of_site(\"FAST\")\n",
    "FAST.geodetic"
   ]
  },
  {
   "cell_type": "markdown",
   "id": "b39e18df-b21e-4e6b-b266-6695f0322099",
   "metadata": {},
   "source": [
    "Here's the workunit header\n",
    "\n",
    "    <latitude>25.652944</latitude>\n",
    "    <longitude>106.856667</longitude>\n",
    "    <elevation>1110.0288</elevation>\n",
    "\n",
    "Slightly different...  Hmmm....  Possibly another difference between geodetic and geocentric coordinates, or possibly the model speroid used. How far apart a they\n"
   ]
  },
  {
   "cell_type": "code",
   "execution_count": 227,
   "id": "507c0114-b1a1-4592-a8d0-636f95ab70a3",
   "metadata": {},
   "outputs": [
    {
     "data": {
      "text/latex": [
       "$2.6640451 \\; \\mathrm{m}$"
      ],
      "text/plain": [
       "<Quantity 2.66404509 m>"
      ]
     },
     "execution_count": 227,
     "metadata": {},
     "output_type": "execute_result"
    }
   ],
   "source": [
    "math.sqrt((((FAST.geodetic.lon-106.856667*u.degree).radian*63870000*u.meter)**2+\n",
    "     ((FAST.geodetic.lat-25.652944*u.degree).radian*63870000*u.meter)**2+\n",
    "     (FAST.geodetic.height-1110.0288*u.meter)**2)/u.meter**2)*u.meter"
   ]
  },
  {
   "cell_type": "markdown",
   "id": "84417f7e-9f17-4407-bef9-a6bba9bcd53c",
   "metadata": {},
   "source": [
    "Not a huge difference, so we'll call them the same.  If we were doing nanosecond timing or nanoHz spectroscopy, this might make a difference."
   ]
  },
  {
   "cell_type": "markdown",
   "id": "4ce801ee-cdad-430e-afcc-93c2b751ff8b",
   "metadata": {},
   "source": [
    "Now the sky position at the start and end of the workunit.\n",
    "\n",
    "    <start_time>2459847.1418726854</start_time>\n",
    "    <start_ra>23.657972</start_ra>\n",
    "    <start_dec>20.843028</start_dec>\n"
   ]
  },
  {
   "cell_type": "code",
   "execution_count": 228,
   "id": "9c9c90bf-7754-4b07-9dd4-1c0587151945",
   "metadata": {},
   "outputs": [
    {
     "data": {
      "text/plain": [
       "<SkyCoord (ICRS): (ra, dec) in deg\n",
       "    (354.86958, 20.843028)>"
      ]
     },
     "execution_count": 228,
     "metadata": {},
     "output_type": "execute_result"
    }
   ],
   "source": [
    "pos0=SkyCoord(23.657972*15,20.843028,unit=\"deg\",equinox=\"J2000\",obstime=Time(2459847.1418726854,format=\"jd\",location=FAST))\n",
    "pos0"
   ]
  },
  {
   "cell_type": "markdown",
   "id": "5e13def8-9f2d-43ae-9f5a-0009f29227e1",
   "metadata": {},
   "source": [
    "The last position should be in the final set of coordinates.\n",
    "\n",
    "    <coordinate_t>\n",
    "      <time>2459847.1426828704</time>\n",
    "      <ra>23.677431</ra>\n",
    "      <dec>20.841556</dec>\n",
    "    </coordinate_t>\n"
   ]
  },
  {
   "cell_type": "code",
   "execution_count": 229,
   "id": "c59bf5fb-7e49-4cb4-baaa-fe6c7924de7c",
   "metadata": {},
   "outputs": [
    {
     "data": {
      "text/plain": [
       "<SkyCoord (ICRS): (ra, dec) in deg\n",
       "    (355.161465, 20.841556)>"
      ]
     },
     "execution_count": 229,
     "metadata": {},
     "output_type": "execute_result"
    }
   ],
   "source": [
    "pos1=SkyCoord(23.677431*15,20.841556,unit=\"deg\",equinox=\"J2000\",obstime=Time(2459847.1426828704,format=\"jd\",location=FAST))\n",
    "pos1"
   ]
  },
  {
   "cell_type": "code",
   "execution_count": 230,
   "id": "c5058fe2-2d79-459c-a05c-d1ad4ef49992",
   "metadata": {},
   "outputs": [
    {
     "data": {
      "text/latex": [
       "$0.9603178 \\; \\mathrm{\\frac{km}{s}}$"
      ],
      "text/plain": [
       "<Quantity 0.9603178 km / s>"
      ]
     },
     "execution_count": 230,
     "metadata": {},
     "output_type": "execute_result"
    }
   ],
   "source": [
    "corr0=velcorr(pos0.obstime,pos0)\n",
    "corr0"
   ]
  },
  {
   "cell_type": "code",
   "execution_count": 231,
   "id": "8f95109d-f39a-4fbb-bd19-a6b7dffd671d",
   "metadata": {},
   "outputs": [
    {
     "data": {
      "text/latex": [
       "$1.088238 \\; \\mathrm{\\frac{km}{s}}$"
      ],
      "text/plain": [
       "<Quantity 1.08823797 km / s>"
      ]
     },
     "execution_count": 231,
     "metadata": {},
     "output_type": "execute_result"
    }
   ],
   "source": [
    "corr1=velcorr(pos1.obstime,pos1)\n",
    "corr1"
   ]
  },
  {
   "cell_type": "markdown",
   "id": "fc0159c2-9e88-4d3d-b719-88c5ea05f0bf",
   "metadata": {},
   "source": [
    "The difference in time between these two observations is..."
   ]
  },
  {
   "cell_type": "code",
   "execution_count": 232,
   "id": "0dc2c92d-b754-416f-a2ce-bc8ec6dcb603",
   "metadata": {},
   "outputs": [
    {
     "data": {
      "text/latex": [
       "$69.999982 \\; \\mathrm{s}$"
      ],
      "text/plain": [
       "<Quantity 69.99998242 s>"
      ]
     },
     "execution_count": 232,
     "metadata": {},
     "output_type": "execute_result"
    }
   ],
   "source": [
    "dur=(pos1.obstime-pos0.obstime).to_value('sec')*u.second\n",
    "dur"
   ]
  },
  {
   "cell_type": "markdown",
   "id": "76432b4f-14c7-4089-9c86-1828e1f37c28",
   "metadata": {},
   "source": [
    "This should be equal to 1 Mi / subband_sample_rate"
   ]
  },
  {
   "cell_type": "code",
   "execution_count": 233,
   "id": "6fdf3d91-f746-4355-94e5-44525af0eee3",
   "metadata": {},
   "outputs": [
    {
     "data": {
      "text/latex": [
       "$68.719477 \\; \\mathrm{s}$"
      ],
      "text/plain": [
       "<Quantity 68.71947674 s>"
      ]
     },
     "execution_count": 233,
     "metadata": {},
     "output_type": "execute_result"
    }
   ],
   "source": [
    "1024*1024/15258.7890625*u.second"
   ]
  },
  {
   "cell_type": "markdown",
   "id": "838c4a40-b078-45f8-87a8-bd5474237604",
   "metadata": {},
   "source": [
    "It's not, which probably indicates a possible problem with work unit generation, probably the last coordinate is after the end of data.  That should not bother the SETI@home client.  It should not affect this work either."
   ]
  },
  {
   "cell_type": "markdown",
   "id": "87964fac-22cb-468c-84b5-80900fe2f540",
   "metadata": {},
   "source": [
    "These are the barycentric corrections at the start and end of the observation.  Expressed as acceleration that is..."
   ]
  },
  {
   "cell_type": "code",
   "execution_count": 234,
   "id": "0d070d82-0da2-4812-b9ad-b6c474b0e274",
   "metadata": {},
   "outputs": [
    {
     "data": {
      "text/latex": [
       "$0.0018274315 \\; \\mathrm{\\frac{km}{s^{2}}}$"
      ],
      "text/plain": [
       "<Quantity 0.00182743 km / s2>"
      ]
     },
     "execution_count": 234,
     "metadata": {},
     "output_type": "execute_result"
    }
   ],
   "source": [
    "accel=(corr1-corr0)/dur\n",
    "accel"
   ]
  },
  {
   "cell_type": "markdown",
   "id": "287e0d12-1404-4035-90a1-8b2a66363979",
   "metadata": {},
   "source": [
    "Now find the frequency we are correcting for.  For this work we can only do one frequency per workunit, the central frequency.\n",
    "\n",
    "    <center>1420364379.882812</center>"
   ]
  },
  {
   "cell_type": "code",
   "execution_count": 235,
   "id": "bc7278e9-c6bd-4eed-af96-88f9cd7fd193",
   "metadata": {},
   "outputs": [
    {
     "data": {
      "text/latex": [
       "$1.4203644 \\times 10^{9} \\; \\mathrm{Hz}$"
      ],
      "text/plain": [
       "<Quantity 1.42036438e+09 Hz>"
      ]
     },
     "execution_count": 235,
     "metadata": {},
     "output_type": "execute_result"
    }
   ],
   "source": [
    "nu=1420364379.882812*u.Hz\n",
    "nu"
   ]
  },
  {
   "cell_type": "markdown",
   "id": "8fd9d6ca-af30-42c7-8bb0-6822854cb2cb",
   "metadata": {},
   "source": [
    "Noe we have to calculate the doppler drift over that time"
   ]
  },
  {
   "cell_type": "code",
   "execution_count": 236,
   "id": "c2158ba6-2a2b-4847-9cf2-6aecdc84ac1d",
   "metadata": {},
   "outputs": [
    {
     "data": {
      "text/latex": [
       "$8.6580814 \\; \\mathrm{\\frac{1}{s^{2}}}$"
      ],
      "text/plain": [
       "<Quantity 8.6580814 1 / s2>"
      ]
     },
     "execution_count": 236,
     "metadata": {},
     "output_type": "execute_result"
    }
   ],
   "source": [
    "#two points a second apart\n",
    "nu_corr0=math.sqrt((1+corr0/c)/(1-corr0/c))\n",
    "nu_corr1=math.sqrt((1+corr1/c)/(1-corr1/c))\n",
    "drift=nu*(nu_corr1-nu_corr0)/dur\n",
    "drift.decompose()\n"
   ]
  },
  {
   "cell_type": "markdown",
   "id": "a379d08c-68bd-4c4d-ba28-d55391e19e2b",
   "metadata": {},
   "source": [
    "Now you should be confused, because I said the Doppler drift would almost always be negative, and 8.55 Hz/s is larger than it should be and has the opposite sign that it should.\n",
    "\n",
    "That's because I deliberately made a mistake that crop up a lot in SETI.  I've calculated the Doppler drift using two different coordinates.  So I've calculated the Doppler drift of an object moving across the sky.  That's not what we're looking for.  If I calculate\n",
    "the doppler drif at the start and end position.  Lets start by defining a function for the Doppler drift."
   ]
  },
  {
   "cell_type": "code",
   "execution_count": 237,
   "id": "18801ebf-e48e-402c-a45d-970a19f2cf26",
   "metadata": {},
   "outputs": [],
   "source": [
    "\n",
    "def doppler_drift(pos, nu):\n",
    "  corr0=velcorr(pos.obstime-0.5*u.second,pos)\n",
    "  corr1=velcorr(pos.obstime+0.5*u.second,pos)\n",
    "  nu_corr0=math.sqrt((1+corr0/c)/(1-corr0/c))\n",
    "  nu_corr1=math.sqrt((1+corr1/c)/(1-corr1/c))\n",
    "  drift=nu*(nu_corr1-nu_corr0)/u.second\n",
    "  return drift\n"
   ]
  },
  {
   "cell_type": "code",
   "execution_count": 238,
   "id": "a8b25c2b-c883-49ec-ad93-cc215ff1fc74",
   "metadata": {},
   "outputs": [
    {
     "data": {
      "text/latex": [
       "$-0.15761643 \\; \\mathrm{\\frac{Hz}{s}}$"
      ],
      "text/plain": [
       "<Quantity -0.15761643 Hz / s>"
      ]
     },
     "execution_count": 238,
     "metadata": {},
     "output_type": "execute_result"
    }
   ],
   "source": [
    "drift0=doppler_drift(pos0,nu)\n",
    "drift0"
   ]
  },
  {
   "cell_type": "code",
   "execution_count": 239,
   "id": "caac6bfc",
   "metadata": {},
   "outputs": [
    {
     "data": {
      "text/latex": [
       "$-0.1576322 \\; \\mathrm{\\frac{Hz}{s}}$"
      ],
      "text/plain": [
       "<Quantity -0.1576322 Hz / s>"
      ]
     },
     "execution_count": 239,
     "metadata": {},
     "output_type": "execute_result"
    }
   ],
   "source": [
    "drift1=doppler_drift(pos1,nu)\n",
    "drift1"
   ]
  },
  {
   "cell_type": "markdown",
   "id": "a7572fc4-6439-4cb5-aea9-ff1b3ad150b0",
   "metadata": {},
   "source": [
    "Those are better answers...  So the average drift rate over the workunit is:"
   ]
  },
  {
   "cell_type": "code",
   "execution_count": 240,
   "id": "4548175f-1e92-4e7c-8607-9c9d5c173c8f",
   "metadata": {},
   "outputs": [
    {
     "data": {
      "text/latex": [
       "$-0.15762432 \\; \\mathrm{\\frac{Hz}{s}}$"
      ],
      "text/plain": [
       "<Quantity -0.15762432 Hz / s>"
      ]
     },
     "execution_count": 240,
     "metadata": {},
     "output_type": "execute_result"
    }
   ],
   "source": [
    "drift=(drift0+drift1)/2\n",
    "drift"
   ]
  },
  {
   "cell_type": "markdown",
   "id": "d95648f6-e5ff-4b3d-8ac5-94c45259cc18",
   "metadata": {},
   "source": [
    "Now we need to grab the data from the file"
   ]
  },
  {
   "cell_type": "code",
   "execution_count": 241,
   "id": "64cab871-fc77-4f7f-a67d-1d9848b8fe5e",
   "metadata": {
    "scrolled": true
   },
   "outputs": [
    {
     "name": "stdout",
     "output_type": "stream",
     "text": [
      "<class 'numpy.ndarray'>\n",
      "2112188\n",
      "2097126\n"
     ]
    }
   ],
   "source": [
    "data=np.fromfile(\"work_unit.sah\", dtype=np.int8)\n",
    "print(type(data))\n",
    "# The start is at 15063 bytes into the file \n",
    "# every file will be different!  A workunit reader should be able to exctract the header and data in the form of a structure.\n",
    "# I don't think I have time to write this\n",
    "print(data.__len__())\n",
    "data=data[15062:15062+2*1024*1024]\n",
    "print(data.__len__())\n"
   ]
  },
  {
   "cell_type": "markdown",
   "id": "f5c715ba-a6fa-4026-aed2-64f8011b0efc",
   "metadata": {},
   "source": [
    "That second number should be 2097152.  It is not.  There is something wrong with the workunit generator.  The data section is too short by a significant amount."
   ]
  },
  {
   "cell_type": "markdown",
   "id": "2fa00658-c67b-41ca-8167-a4df9f9516cb",
   "metadata": {},
   "source": [
    "Check the distribution of samples."
   ]
  },
  {
   "cell_type": "code",
   "execution_count": 242,
   "id": "68e9e9e3-2d50-4547-bba9-b26552d95a86",
   "metadata": {},
   "outputs": [
    {
     "data": {
      "text/plain": [
       "(array([0.00000e+00, 0.00000e+00, 0.00000e+00, 0.00000e+00, 0.00000e+00,\n",
       "        0.00000e+00, 0.00000e+00, 0.00000e+00, 0.00000e+00, 0.00000e+00,\n",
       "        0.00000e+00, 0.00000e+00, 0.00000e+00, 0.00000e+00, 0.00000e+00,\n",
       "        0.00000e+00, 0.00000e+00, 0.00000e+00, 0.00000e+00, 0.00000e+00,\n",
       "        0.00000e+00, 0.00000e+00, 0.00000e+00, 0.00000e+00, 0.00000e+00,\n",
       "        0.00000e+00, 0.00000e+00, 0.00000e+00, 0.00000e+00, 0.00000e+00,\n",
       "        0.00000e+00, 0.00000e+00, 0.00000e+00, 0.00000e+00, 0.00000e+00,\n",
       "        0.00000e+00, 0.00000e+00, 0.00000e+00, 0.00000e+00, 0.00000e+00,\n",
       "        0.00000e+00, 0.00000e+00, 0.00000e+00, 0.00000e+00, 0.00000e+00,\n",
       "        0.00000e+00, 0.00000e+00, 0.00000e+00, 0.00000e+00, 0.00000e+00,\n",
       "        0.00000e+00, 0.00000e+00, 0.00000e+00, 0.00000e+00, 0.00000e+00,\n",
       "        0.00000e+00, 0.00000e+00, 0.00000e+00, 0.00000e+00, 0.00000e+00,\n",
       "        0.00000e+00, 0.00000e+00, 0.00000e+00, 0.00000e+00, 0.00000e+00,\n",
       "        0.00000e+00, 0.00000e+00, 0.00000e+00, 0.00000e+00, 0.00000e+00,\n",
       "        1.00000e+00, 0.00000e+00, 2.00000e+00, 1.00000e+00, 2.00000e+00,\n",
       "        4.00000e+00, 2.00000e+00, 2.00000e+00, 1.00000e+01, 7.00000e+00,\n",
       "        6.00000e+00, 2.20000e+01, 2.30000e+01, 3.70000e+01, 6.70000e+01,\n",
       "        7.20000e+01, 9.40000e+01, 1.42000e+02, 1.99000e+02, 2.76000e+02,\n",
       "        3.17000e+02, 4.36000e+02, 5.75000e+02, 7.44000e+02, 9.60000e+02,\n",
       "        1.23100e+03, 1.49800e+03, 1.95600e+03, 2.52800e+03, 3.02000e+03,\n",
       "        3.75000e+03, 4.56600e+03, 5.54000e+03, 6.62700e+03, 8.10300e+03,\n",
       "        9.58900e+03, 1.14690e+04, 1.32280e+04, 1.54050e+04, 1.78250e+04,\n",
       "        2.04480e+04, 2.36250e+04, 2.64750e+04, 3.00570e+04, 3.32710e+04,\n",
       "        3.66800e+04, 4.06190e+04, 4.41450e+04, 4.78640e+04, 5.12000e+04,\n",
       "        5.49090e+04, 5.79790e+04, 6.09920e+04, 6.38380e+04, 6.59700e+04,\n",
       "        6.82720e+04, 6.95830e+04, 7.05940e+04, 2.13551e+05, 6.96580e+04,\n",
       "        6.85260e+04, 6.63200e+04, 6.35300e+04, 6.10890e+04, 5.84930e+04,\n",
       "        5.44170e+04, 5.18120e+04, 4.77850e+04, 4.40390e+04, 4.02380e+04,\n",
       "        3.70550e+04, 3.32570e+04, 2.97140e+04, 2.63970e+04, 2.33840e+04,\n",
       "        2.04410e+04, 1.78990e+04, 1.53220e+04, 1.33570e+04, 1.14590e+04,\n",
       "        9.76900e+03, 8.04800e+03, 6.72300e+03, 5.52600e+03, 4.62000e+03,\n",
       "        3.84500e+03, 3.01600e+03, 2.36900e+03, 1.92100e+03, 1.56100e+03,\n",
       "        1.28400e+03, 8.79000e+02, 7.20000e+02, 5.81000e+02, 4.26000e+02,\n",
       "        3.36000e+02, 2.40000e+02, 1.91000e+02, 1.12000e+02, 1.12000e+02,\n",
       "        7.30000e+01, 4.30000e+01, 2.80000e+01, 2.30000e+01, 2.20000e+01,\n",
       "        1.70000e+01, 2.00000e+00, 8.00000e+00, 6.00000e+00, 3.00000e+00,\n",
       "        1.00000e+00, 3.00000e+00, 1.00000e+00, 0.00000e+00, 1.00000e+00,\n",
       "        0.00000e+00, 0.00000e+00, 2.00000e+00, 0.00000e+00, 2.00000e+00,\n",
       "        0.00000e+00, 0.00000e+00, 0.00000e+00, 0.00000e+00, 0.00000e+00,\n",
       "        0.00000e+00, 0.00000e+00, 0.00000e+00, 0.00000e+00, 0.00000e+00,\n",
       "        0.00000e+00, 0.00000e+00, 0.00000e+00, 0.00000e+00, 0.00000e+00,\n",
       "        0.00000e+00, 0.00000e+00, 0.00000e+00, 0.00000e+00, 0.00000e+00,\n",
       "        0.00000e+00, 0.00000e+00, 0.00000e+00, 0.00000e+00, 0.00000e+00,\n",
       "        0.00000e+00, 0.00000e+00, 0.00000e+00, 0.00000e+00, 0.00000e+00,\n",
       "        0.00000e+00, 0.00000e+00, 0.00000e+00, 0.00000e+00, 2.00000e+00,\n",
       "        0.00000e+00, 0.00000e+00, 1.00000e+00, 0.00000e+00, 0.00000e+00,\n",
       "        0.00000e+00, 0.00000e+00, 1.00000e+00, 0.00000e+00, 1.00000e+00,\n",
       "        0.00000e+00, 0.00000e+00, 1.00000e+00, 1.00000e+00, 0.00000e+00,\n",
       "        0.00000e+00, 1.00000e+00, 0.00000e+00, 2.00000e+00, 1.00000e+00,\n",
       "        0.00000e+00, 1.00000e+00, 0.00000e+00, 0.00000e+00, 0.00000e+00,\n",
       "        0.00000e+00, 0.00000e+00, 0.00000e+00, 0.00000e+00, 0.00000e+00,\n",
       "        0.00000e+00]),\n",
       " array([-128.5       , -127.49609375, -126.4921875 , -125.48828125,\n",
       "        -124.484375  , -123.48046875, -122.4765625 , -121.47265625,\n",
       "        -120.46875   , -119.46484375, -118.4609375 , -117.45703125,\n",
       "        -116.453125  , -115.44921875, -114.4453125 , -113.44140625,\n",
       "        -112.4375    , -111.43359375, -110.4296875 , -109.42578125,\n",
       "        -108.421875  , -107.41796875, -106.4140625 , -105.41015625,\n",
       "        -104.40625   , -103.40234375, -102.3984375 , -101.39453125,\n",
       "        -100.390625  ,  -99.38671875,  -98.3828125 ,  -97.37890625,\n",
       "         -96.375     ,  -95.37109375,  -94.3671875 ,  -93.36328125,\n",
       "         -92.359375  ,  -91.35546875,  -90.3515625 ,  -89.34765625,\n",
       "         -88.34375   ,  -87.33984375,  -86.3359375 ,  -85.33203125,\n",
       "         -84.328125  ,  -83.32421875,  -82.3203125 ,  -81.31640625,\n",
       "         -80.3125    ,  -79.30859375,  -78.3046875 ,  -77.30078125,\n",
       "         -76.296875  ,  -75.29296875,  -74.2890625 ,  -73.28515625,\n",
       "         -72.28125   ,  -71.27734375,  -70.2734375 ,  -69.26953125,\n",
       "         -68.265625  ,  -67.26171875,  -66.2578125 ,  -65.25390625,\n",
       "         -64.25      ,  -63.24609375,  -62.2421875 ,  -61.23828125,\n",
       "         -60.234375  ,  -59.23046875,  -58.2265625 ,  -57.22265625,\n",
       "         -56.21875   ,  -55.21484375,  -54.2109375 ,  -53.20703125,\n",
       "         -52.203125  ,  -51.19921875,  -50.1953125 ,  -49.19140625,\n",
       "         -48.1875    ,  -47.18359375,  -46.1796875 ,  -45.17578125,\n",
       "         -44.171875  ,  -43.16796875,  -42.1640625 ,  -41.16015625,\n",
       "         -40.15625   ,  -39.15234375,  -38.1484375 ,  -37.14453125,\n",
       "         -36.140625  ,  -35.13671875,  -34.1328125 ,  -33.12890625,\n",
       "         -32.125     ,  -31.12109375,  -30.1171875 ,  -29.11328125,\n",
       "         -28.109375  ,  -27.10546875,  -26.1015625 ,  -25.09765625,\n",
       "         -24.09375   ,  -23.08984375,  -22.0859375 ,  -21.08203125,\n",
       "         -20.078125  ,  -19.07421875,  -18.0703125 ,  -17.06640625,\n",
       "         -16.0625    ,  -15.05859375,  -14.0546875 ,  -13.05078125,\n",
       "         -12.046875  ,  -11.04296875,  -10.0390625 ,   -9.03515625,\n",
       "          -8.03125   ,   -7.02734375,   -6.0234375 ,   -5.01953125,\n",
       "          -4.015625  ,   -3.01171875,   -2.0078125 ,   -1.00390625,\n",
       "           0.        ,    1.00390625,    2.0078125 ,    3.01171875,\n",
       "           4.015625  ,    5.01953125,    6.0234375 ,    7.02734375,\n",
       "           8.03125   ,    9.03515625,   10.0390625 ,   11.04296875,\n",
       "          12.046875  ,   13.05078125,   14.0546875 ,   15.05859375,\n",
       "          16.0625    ,   17.06640625,   18.0703125 ,   19.07421875,\n",
       "          20.078125  ,   21.08203125,   22.0859375 ,   23.08984375,\n",
       "          24.09375   ,   25.09765625,   26.1015625 ,   27.10546875,\n",
       "          28.109375  ,   29.11328125,   30.1171875 ,   31.12109375,\n",
       "          32.125     ,   33.12890625,   34.1328125 ,   35.13671875,\n",
       "          36.140625  ,   37.14453125,   38.1484375 ,   39.15234375,\n",
       "          40.15625   ,   41.16015625,   42.1640625 ,   43.16796875,\n",
       "          44.171875  ,   45.17578125,   46.1796875 ,   47.18359375,\n",
       "          48.1875    ,   49.19140625,   50.1953125 ,   51.19921875,\n",
       "          52.203125  ,   53.20703125,   54.2109375 ,   55.21484375,\n",
       "          56.21875   ,   57.22265625,   58.2265625 ,   59.23046875,\n",
       "          60.234375  ,   61.23828125,   62.2421875 ,   63.24609375,\n",
       "          64.25      ,   65.25390625,   66.2578125 ,   67.26171875,\n",
       "          68.265625  ,   69.26953125,   70.2734375 ,   71.27734375,\n",
       "          72.28125   ,   73.28515625,   74.2890625 ,   75.29296875,\n",
       "          76.296875  ,   77.30078125,   78.3046875 ,   79.30859375,\n",
       "          80.3125    ,   81.31640625,   82.3203125 ,   83.32421875,\n",
       "          84.328125  ,   85.33203125,   86.3359375 ,   87.33984375,\n",
       "          88.34375   ,   89.34765625,   90.3515625 ,   91.35546875,\n",
       "          92.359375  ,   93.36328125,   94.3671875 ,   95.37109375,\n",
       "          96.375     ,   97.37890625,   98.3828125 ,   99.38671875,\n",
       "         100.390625  ,  101.39453125,  102.3984375 ,  103.40234375,\n",
       "         104.40625   ,  105.41015625,  106.4140625 ,  107.41796875,\n",
       "         108.421875  ,  109.42578125,  110.4296875 ,  111.43359375,\n",
       "         112.4375    ,  113.44140625,  114.4453125 ,  115.44921875,\n",
       "         116.453125  ,  117.45703125,  118.4609375 ,  119.46484375,\n",
       "         120.46875   ,  121.47265625,  122.4765625 ,  123.48046875,\n",
       "         124.484375  ,  125.48828125,  126.4921875 ,  127.49609375,\n",
       "         128.5       ]),\n",
       " [<matplotlib.patches.Polygon at 0x7f43e412cac0>])"
      ]
     },
     "execution_count": 242,
     "metadata": {},
     "output_type": "execute_result"
    },
    {
     "data": {
      "image/png": "[encoded data removed]",
      "text/plain": [
       "<Figure size 640x480 with 1 Axes>"
      ]
     },
     "metadata": {},
     "output_type": "display_data"
    }
   ],
   "source": [
    "import matplotlib.pyplot as plt\n",
    "%matplotlib inline\n",
    "plt.hist(data,bins=256,range=[-128.5,128.5],histtype='step')"
   ]
  },
  {
   "cell_type": "markdown",
   "id": "f3ee355e-0cc3-471c-9115-0631b320cf08",
   "metadata": {},
   "source": [
    "Looks fine, apart from +0 and -0 being folded into the same bin."
   ]
  }
 ],
 "metadata": {
  "kernelspec": {
   "display_name": "Python 3 (ipykernel)",
   "language": "python",
   "name": "python3"
  },
  "language_info": {
   "codemirror_mode": {
    "name": "ipython",
    "version": 3
   },
   "file_extension": ".py",
   "mimetype": "text/x-python",
   "name": "python",
   "nbconvert_exporter": "python",
   "pygments_lexer": "ipython3",
   "version": "3.10.10"
  }
 },
 "nbformat": 4,
 "nbformat_minor": 5
}
