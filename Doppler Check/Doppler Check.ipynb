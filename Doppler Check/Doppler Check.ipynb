{
 "cells": [
  {
   "cell_type": "markdown",
   "id": "c5df05b8-b67d-4348-a346-c73e8f801bce",
   "metadata": {},
   "source": [
    "# Introduction"
   ]
  },
  {
   "cell_type": "markdown",
   "id": "47cdd031-c855-415d-8913-64db0e103700",
   "metadata": {},
   "source": [
    "This is a comparison of the SETI@home doppler drift code against the phython code."
   ]
  },
  {
   "cell_type": "markdown",
   "id": "e7374973-4b3b-429a-ae31-d187593180c4",
   "metadata": {},
   "source": [
    "First some helper code...  This returns the barycentric velocity correction in a specific direction."
   ]
  },
  {
   "cell_type": "code",
   "execution_count": 1,
   "id": "93e2fc7f-def0-4457-a40b-42417ddbba17",
   "metadata": {},
   "outputs": [],
   "source": [
    "# corrs.py\n",
    "import math\n",
    "from astropy.time import Time\n",
    "from astropy.coordinates import SkyCoord, solar_system, EarthLocation, ICRS, CartesianRepresentation, UnitSphericalRepresentation\n",
    "from astropy import units as u\n",
    "\n",
    "\n",
    "\n",
    "def velcorr(time, skycoord, location=None):\n",
    "  \"\"\"Barycentric velocity correction.\n",
    "  \n",
    "  Uses the ephemeris set with  ``astropy.coordinates.solar_system_ephemeris.set`` for corrections. \n",
    "  For more information see `~astropy.coordinates.solar_system_ephemeris`.\n",
    "  \n",
    "  Parameters\n",
    "  ----------\n",
    "  time : `~astropy.time.Time`\n",
    "    The time of observation.\n",
    "  skycoord: `~astropy.coordinates.SkyCoord`\n",
    "    The sky location to calculate the correction for.\n",
    "  location: `~astropy.coordinates.EarthLocation`, optional\n",
    "    The location of the observatory to calculate the correction for.\n",
    "    If no location is given, the ``location`` attribute of the Time\n",
    "    object is used\n",
    "    \n",
    "  Returns\n",
    "  -------\n",
    "  vel_corr : `~astropy.units.Quantity`\n",
    "    The velocity correction to convert to Barycentric velocities. Should be added to the original\n",
    "    velocity.\n",
    "  \"\"\"\n",
    "  \n",
    "  if location is None:\n",
    "    if time.location is None:\n",
    "        raise ValueError('An EarthLocation needs to be set or passed '\n",
    "                         'in to calculate bary- or heliocentric '\n",
    "                         'corrections')\n",
    "    location = time.location\n",
    "  \n",
    "  ep, ev = solar_system.get_body_barycentric_posvel('earth', time) # ICRS position and velocity of Earth's geocenter\n",
    "  op, ov = location.get_gcrs_posvel(time) # GCRS position and velocity of observatory\n",
    "  # ICRS and GCRS are axes-aligned. Can add the velocities\n",
    "  velocity = ev + ov # relies on PR5434 being merged\n",
    "  \n",
    "  # get unit ICRS vector in direction of SkyCoord\n",
    "  sc_cartesian = skycoord.icrs.represent_as(UnitSphericalRepresentation).represent_as(CartesianRepresentation)\n",
    "  return sc_cartesian.dot(velocity).to(u.km/u.s) # similarly requires PR5434\n"
   ]
  },
  {
   "cell_type": "markdown",
   "id": "2de6ff26-d62b-4fa2-b1a9-ab116ca65a86",
   "metadata": {},
   "source": [
    "\n",
    "The SETI@home code uses the Arecibo observatory corrdinates (both astronomical and geodetic).  This only has\n",
    "one coordinate possible so we'll use the Arecibo geodetic coordinates."
   ]
  },
  {
   "cell_type": "code",
   "execution_count": 2,
   "id": "f63af57e-eca3-4ada-ab77-a8b7b084baa9",
   "metadata": {},
   "outputs": [
    {
     "data": {
      "text/plain": [
       "GeodeticLocation(lon=<Longitude -66.75277778 deg>, lat=<Latitude 18.34416667 deg>, height=<Quantity 497. m>)"
      ]
     },
     "execution_count": 2,
     "metadata": {},
     "output_type": "execute_result"
    }
   ],
   "source": [
    "AO=EarthLocation.of_site(\"Arecibo Observatory\")\n",
    "AO.geodetic\n"
   ]
  },
  {
   "cell_type": "markdown",
   "id": "dab93d67-d3fc-41a0-8d29-f7a528c9f724",
   "metadata": {},
   "source": [
    "\n",
    "Just a note that this doesn't match the geodetic coordinates that I've been using, which proably means that they are using a different ellipsoid than I use.  It shouldn't make a difference if everything is consistent.  It is also different than the Astronomical coordinates used for determining where Arecibo was pointing.  The gravitational acceleration is not perpendicular to the ellipsoid at Arecibo.  This is also likely to be true at FAST, but it is my understanding that at FAST the direction of the gravity is ignored and geodetic coordinates are used for astronomical positions.\n",
    "\n",
    "Next we need something to look at, and a time.  I've pulled the 1 billionth workunit generated for SETI@home and am taking its time and coordinates\n",
    "JD=2455628.794039 RA(hours)=13.65615430833, Dec(deg)=33.23895434779"
   ]
  },
  {
   "cell_type": "code",
   "execution_count": 3,
   "id": "b9666ab5-cbb7-4447-a05a-5fe81d149a08",
   "metadata": {},
   "outputs": [
    {
     "data": {
      "text/plain": [
       "<SkyCoord (ICRS): (ra, dec) in deg\n",
       "    (204.84231462, 33.23895435)>"
      ]
     },
     "execution_count": 3,
     "metadata": {},
     "output_type": "execute_result"
    }
   ],
   "source": [
    "pos=SkyCoord(13.65615430833*15,33.23895434779,unit=\"deg\",equinox=\"J2000\",obstime=Time(2455628.794039,format=\"jd\",location=AO))\n",
    "pos"
   ]
  },
  {
   "cell_type": "code",
   "execution_count": 4,
   "id": "4589fe20-1436-4e8d-8f4e-16ed8cbf3be5",
   "metadata": {},
   "outputs": [
    {
     "data": {
      "text/plain": [
       "<Time object: scale='utc' format='jd' value=2455628.794039>"
      ]
     },
     "execution_count": 4,
     "metadata": {},
     "output_type": "execute_result"
    }
   ],
   "source": [
    "pos.obstime"
   ]
  },
  {
   "cell_type": "markdown",
   "id": "1538f8be-85d5-4d90-be83-d15a23fa33e8",
   "metadata": {},
   "source": [
    "OK, now lets get the barycentric correction"
   ]
  },
  {
   "cell_type": "code",
   "execution_count": 5,
   "id": "f49c2d63-c53a-4c0e-9133-72ff3e740a58",
   "metadata": {},
   "outputs": [
    {
     "data": {
      "text/latex": [
       "$8.4175824 \\; \\mathrm{\\frac{km}{s}}$"
      ],
      "text/plain": [
       "<Quantity 8.41758242 km / s>"
      ]
     },
     "execution_count": 5,
     "metadata": {},
     "output_type": "execute_result"
    }
   ],
   "source": [
    "corr=velcorr(pos.obstime,pos)\n",
    "corr"
   ]
  },
  {
   "cell_type": "markdown",
   "id": "3bc7f74a-d97a-4b0d-9cd9-a8d1e91dfa0c",
   "metadata": {},
   "source": [
    "So according to the comments, this is the correction the velocity of an astronomical object.  So if a star was measured to have a radial velocity of zero, its corrected velocity would be +8.4 km/s with respect to the barycenter and we would expect its observed radio frequency to be $\\frac{c+8.4\\frac{\\rm km}{\\rm s}}{c} \\nu_o$ where $\\nu_o$ is the emitted frequency.  In other words the observed emission is blue shifted.  So for an emitted frequency of 1.420 GHz, the observed frequency would be...."
   ]
  },
  {
   "cell_type": "code",
   "execution_count": 6,
   "id": "2dbdc90d-866d-4e44-aa6b-867b479f75bd",
   "metadata": {},
   "outputs": [
    {
     "data": {
      "text/plain": [
       "'1.42003987136610e+09 1 / s'"
      ]
     },
     "execution_count": 6,
     "metadata": {},
     "output_type": "execute_result"
    }
   ],
   "source": [
    "c=299792458*u.meter/u.second\n",
    "nu_corr=math.sqrt((1+corr/c)/(1-corr/c))\n",
    "nu=1.420e+9*u.Hz\n",
    "nu1=nu*nu_corr\n",
    "nu1.decompose().to_string(precision=14)\n"
   ]
  },
  {
   "cell_type": "markdown",
   "id": "51094dc1-c924-4b56-b4c4-362508f38bc8",
   "metadata": {},
   "source": [
    "If we want the doppler drift rate due to the motion of the earth we need to do the same calculation before an after the point.\n"
   ]
  },
  {
   "cell_type": "code",
   "execution_count": 7,
   "id": "035b206e-1915-407f-a6cb-d496056d765f",
   "metadata": {},
   "outputs": [
    {
     "data": {
      "text/latex": [
       "$-0.14821716 \\; \\mathrm{\\frac{1}{s^{2}}}$"
      ],
      "text/plain": [
       "<Quantity -0.14821716 1 / s2>"
      ]
     },
     "execution_count": 7,
     "metadata": {},
     "output_type": "execute_result"
    }
   ],
   "source": [
    "#two points a second apart\n",
    "corr0=velcorr(pos.obstime-0.5*u.second,pos)\n",
    "corr1=velcorr(pos.obstime+0.5*u.second,pos)\n",
    "nu_corr0=math.sqrt((1+corr0/c)/(1-corr0/c))\n",
    "nu_corr1=math.sqrt((1+corr1/c)/(1-corr1/c))\n",
    "drift=nu*(nu_corr1-nu_corr0)/u.second\n",
    "drift.decompose()\n"
   ]
  },
  {
   "cell_type": "markdown",
   "id": "12bf2a08-bddc-464b-bf72-2bec3e1c16f0",
   "metadata": {},
   "source": [
    "Since the doppler drift is dominated by the Earth's rotation which is an acceleration toward the axis, and telescopes usually point up, the drift rate will almost always be negative."
   ]
  },
  {
   "cell_type": "markdown",
   "id": "e3771fc6-91e0-42cf-910e-740a3876991b",
   "metadata": {},
   "source": [
    "Now lets compare the SETI@home doppler code.  The program to calculate an observed frequency from a barycentric frequency is called \"detection_frequency\""
   ]
  },
  {
   "cell_type": "markdown",
   "id": "afc9e2d7-bda3-491c-ac84-727d704802a9",
   "metadata": {},
   "source": [
    "> % ./detection_freq -jd 2455628.794039 -ra 13.65615430833 -decl 33.23895434779 -baryfreq 1420000000 -epoch 2000.0\n",
    "\n",
    "> JD 2455628.794039 LST 13.649352 RA 13.656154 Declination 33.238954 detection frequency 1420039875.533216 barycentric frequency 1420000000.000000 offset (bary-det) -39875.533216 barycentric chirp -0.148083\n"
   ]
  },
  {
   "cell_type": "markdown",
   "id": "135f3220-f611-4059-8015-c05151e84950",
   "metadata": {},
   "source": [
    "So there are some small differences in the acceleration model used.  Frequencies differ by 5 Hz and drift rates by a part in $10^{-4}$.  That shouldn't be big enough to cause a problem because our detection windows are much larger than that.  So we should be able to use the astropy routines.\n"
   ]
  },
  {
   "cell_type": "markdown",
   "id": "aeb8e89b-feff-4bf9-8e19-1877a4ab0327",
   "metadata": {},
   "source": [
    "# Application to a Work Unit"
   ]
  },
  {
   "cell_type": "markdown",
   "id": "6a42870c-c9c3-437b-83b8-995719e640db",
   "metadata": {},
   "source": [
    "I've put a workunit in the directory with this called \"work_unit.sah.\"  We'll read it and use the appropriate fields to calculate the\n",
    "barycentric doppler drift rate of the observation... "
   ]
  },
  {
   "cell_type": "markdown",
   "id": "2aa1633b-8b9d-47e3-a93c-7e548b6bddcc",
   "metadata": {},
   "source": [
    "Someone needs to write a function that will read a workunit and all it's parameters...  Since that doesn't yet exist\n",
    "we will look at the parameters manually.\n"
   ]
  },
  {
   "cell_type": "markdown",
   "id": "08e34ce2-78bd-4fdf-865b-2c048f73073a",
   "metadata": {},
   "source": [
    "Does astropy have the FAST coordinates correct?  This should match what is in the workunit header."
   ]
  },
  {
   "cell_type": "code",
   "execution_count": 8,
   "id": "63443ead-786f-4b42-80bb-0ac7632f5a4b",
   "metadata": {},
   "outputs": [
    {
     "data": {
      "text/plain": [
       "GeodeticLocation(lon=<Longitude 106.85666642 deg>, lat=<Latitude 25.65294616 deg>, height=<Quantity 1109.10232229 m>)"
      ]
     },
     "execution_count": 8,
     "metadata": {},
     "output_type": "execute_result"
    }
   ],
   "source": [
    "FAST=EarthLocation.of_site(\"FAST\")\n",
    "FAST.geodetic"
   ]
  },
  {
   "cell_type": "markdown",
   "id": "b39e18df-b21e-4e6b-b266-6695f0322099",
   "metadata": {},
   "source": [
    "Here's the workunit header\n",
    "\n",
    "    <latitude>25.652944</latitude>\n",
    "    <longitude>106.856667</longitude>\n",
    "    <elevation>1110.0288</elevation>\n",
    "\n",
    "Slightly different...  Hmmm....  Possibly another difference between geodetic and geocentric coordinates, or possibly the model speroid used. How far apart a they\n"
   ]
  },
  {
   "cell_type": "code",
   "execution_count": 9,
   "id": "507c0114-b1a1-4592-a8d0-636f95ab70a3",
   "metadata": {},
   "outputs": [
    {
     "data": {
      "text/latex": [
       "$2.6640451 \\; \\mathrm{m}$"
      ],
      "text/plain": [
       "<Quantity 2.66404509 m>"
      ]
     },
     "execution_count": 9,
     "metadata": {},
     "output_type": "execute_result"
    }
   ],
   "source": [
    "math.sqrt((((FAST.geodetic.lon-106.856667*u.degree).radian*63870000*u.meter)**2+\n",
    "     ((FAST.geodetic.lat-25.652944*u.degree).radian*63870000*u.meter)**2+\n",
    "     (FAST.geodetic.height-1110.0288*u.meter)**2)/u.meter**2)*u.meter"
   ]
  },
  {
   "cell_type": "markdown",
   "id": "84417f7e-9f17-4407-bef9-a6bba9bcd53c",
   "metadata": {},
   "source": [
    "Not a huge difference, so we'll call them the same.  If we were doing nanosecond timing or nanoHz spectroscopy, this might make a difference."
   ]
  },
  {
   "cell_type": "markdown",
   "id": "4ce801ee-cdad-430e-afcc-93c2b751ff8b",
   "metadata": {},
   "source": [
    "Now the sky position at the start and end of the workunit.\n",
    "\n",
    "    <start_time>2460054.974414352</start_time>\n",
    "    <start_ra>9.685692</start_ra>\n",
    "    <start_dec>22.793972</start_dec>\n"
   ]
  },
  {
   "cell_type": "code",
   "execution_count": 10,
   "id": "9c9c90bf-7754-4b07-9dd4-1c0587151945",
   "metadata": {},
   "outputs": [
    {
     "data": {
      "text/plain": [
       "<SkyCoord (ICRS): (ra, dec) in deg\n",
       "    (145.28538, 22.793972)>"
      ]
     },
     "execution_count": 10,
     "metadata": {},
     "output_type": "execute_result"
    }
   ],
   "source": [
    "pos0=SkyCoord(9.685692*15,22.793972,unit=\"deg\",equinox=\"J2000\",obstime=Time(2460054.974414352,format=\"jd\",location=FAST))\n",
    "pos0"
   ]
  },
  {
   "cell_type": "markdown",
   "id": "5e13def8-9f2d-43ae-9f5a-0009f29227e1",
   "metadata": {},
   "source": [
    "The last position should be in the final set of coordinates.\n",
    "\n",
    "    <coordinate_t>\n",
    "      <time>2460054.9752269</time>\n",
    "      <ra>9.703319</ra>\n",
    "      <dec>22.791361</dec>\n",
    "    </coordinate_t>\n"
   ]
  },
  {
   "cell_type": "code",
   "execution_count": 11,
   "id": "c59bf5fb-7e49-4cb4-baaa-fe6c7924de7c",
   "metadata": {},
   "outputs": [
    {
     "data": {
      "text/plain": [
       "<SkyCoord (ICRS): (ra, dec) in deg\n",
       "    (145.549785, 22.791361)>"
      ]
     },
     "execution_count": 11,
     "metadata": {},
     "output_type": "execute_result"
    }
   ],
   "source": [
    "pos1=SkyCoord(9.703319*15,22.791361,unit=\"deg\",equinox=\"J2000\",obstime=Time(2460054.9752269,format=\"jd\",location=FAST))\n",
    "pos1"
   ]
  },
  {
   "cell_type": "code",
   "execution_count": 12,
   "id": "c5058fe2-2d79-459c-a05c-d1ad4ef49992",
   "metadata": {},
   "outputs": [
    {
     "data": {
      "text/latex": [
       "$-27.255265 \\; \\mathrm{\\frac{km}{s}}$"
      ],
      "text/plain": [
       "<Quantity -27.25526485 km / s>"
      ]
     },
     "execution_count": 12,
     "metadata": {},
     "output_type": "execute_result"
    }
   ],
   "source": [
    "corr0=velcorr(pos0.obstime,pos0)\n",
    "corr0"
   ]
  },
  {
   "cell_type": "code",
   "execution_count": 13,
   "id": "8f95109d-f39a-4fbb-bd19-a6b7dffd671d",
   "metadata": {},
   "outputs": [
    {
     "data": {
      "text/latex": [
       "$-27.206711 \\; \\mathrm{\\frac{km}{s}}$"
      ],
      "text/plain": [
       "<Quantity -27.20671101 km / s>"
      ]
     },
     "execution_count": 13,
     "metadata": {},
     "output_type": "execute_result"
    }
   ],
   "source": [
    "corr1=velcorr(pos1.obstime,pos1)\n",
    "corr1"
   ]
  },
  {
   "cell_type": "markdown",
   "id": "fc0159c2-9e88-4d3d-b719-88c5ea05f0bf",
   "metadata": {},
   "source": [
    "The difference in time between these two observations is..."
   ]
  },
  {
   "cell_type": "code",
   "execution_count": 14,
   "id": "0dc2c92d-b754-416f-a2ce-bc8ec6dcb603",
   "metadata": {},
   "outputs": [
    {
     "data": {
      "text/latex": [
       "$70.204166 \\; \\mathrm{s}$"
      ],
      "text/plain": [
       "<Quantity 70.20416558 s>"
      ]
     },
     "execution_count": 14,
     "metadata": {},
     "output_type": "execute_result"
    }
   ],
   "source": [
    "dur=(pos1.obstime-pos0.obstime).to_value('sec')*u.second\n",
    "dur"
   ]
  },
  {
   "cell_type": "markdown",
   "id": "76432b4f-14c7-4089-9c86-1828e1f37c28",
   "metadata": {},
   "source": [
    "This should be equal to 1 Mi / subband_sample_rate"
   ]
  },
  {
   "cell_type": "code",
   "execution_count": 15,
   "id": "6fdf3d91-f746-4355-94e5-44525af0eee3",
   "metadata": {},
   "outputs": [
    {
     "data": {
      "text/latex": [
       "$68.719477 \\; \\mathrm{s}$"
      ],
      "text/plain": [
       "<Quantity 68.71947674 s>"
      ]
     },
     "execution_count": 15,
     "metadata": {},
     "output_type": "execute_result"
    }
   ],
   "source": [
    "1024*1024/15258.7890625*u.second"
   ]
  },
  {
   "cell_type": "markdown",
   "id": "838c4a40-b078-45f8-87a8-bd5474237604",
   "metadata": {},
   "source": [
    "It's not, which probably indicates a possible problem with work unit generation, probably the last coordinate is after the end of data.  That should not bother the SETI@home client.  It should not affect this work either."
   ]
  },
  {
   "cell_type": "markdown",
   "id": "87964fac-22cb-468c-84b5-80900fe2f540",
   "metadata": {},
   "source": [
    "These are the barycentric corrections at the start and end of the observation.  Expressed as acceleration that is..."
   ]
  },
  {
   "cell_type": "code",
   "execution_count": 16,
   "id": "0d070d82-0da2-4812-b9ad-b6c474b0e274",
   "metadata": {},
   "outputs": [
    {
     "data": {
      "text/latex": [
       "$0.00069160913 \\; \\mathrm{\\frac{km}{s^{2}}}$"
      ],
      "text/plain": [
       "<Quantity 0.00069161 km / s2>"
      ]
     },
     "execution_count": 16,
     "metadata": {},
     "output_type": "execute_result"
    }
   ],
   "source": [
    "accel=(corr1-corr0)/dur\n",
    "accel"
   ]
  },
  {
   "cell_type": "markdown",
   "id": "287e0d12-1404-4035-90a1-8b2a66363979",
   "metadata": {},
   "source": [
    "Now find the frequency we are correcting for.  For this work we can only do one frequency per workunit, the central frequency.\n",
    "\n",
    "    <center>1402395629.88281250</center>"
   ]
  },
  {
   "cell_type": "code",
   "execution_count": 17,
   "id": "bc7278e9-c6bd-4eed-af96-88f9cd7fd193",
   "metadata": {},
   "outputs": [
    {
     "data": {
      "text/latex": [
       "$1.4023956 \\times 10^{9} \\; \\mathrm{Hz}$"
      ],
      "text/plain": [
       "<Quantity 1.40239563e+09 Hz>"
      ]
     },
     "execution_count": 17,
     "metadata": {},
     "output_type": "execute_result"
    }
   ],
   "source": [
    "nu=1402395629.88281250*u.Hz\n",
    "nu"
   ]
  },
  {
   "cell_type": "markdown",
   "id": "8fd9d6ca-af30-42c7-8bb0-6822854cb2cb",
   "metadata": {},
   "source": [
    "Noe we have to calculate the doppler drift over that time"
   ]
  },
  {
   "cell_type": "code",
   "execution_count": 18,
   "id": "c2158ba6-2a2b-4847-9cf2-6aecdc84ac1d",
   "metadata": {},
   "outputs": [
    {
     "data": {
      "text/latex": [
       "$3.2349764 \\; \\mathrm{\\frac{1}{s^{2}}}$"
      ],
      "text/plain": [
       "<Quantity 3.23497643 1 / s2>"
      ]
     },
     "execution_count": 18,
     "metadata": {},
     "output_type": "execute_result"
    }
   ],
   "source": [
    "#two points a second apart\n",
    "nu_corr0=math.sqrt((1+corr0/c)/(1-corr0/c))\n",
    "nu_corr1=math.sqrt((1+corr1/c)/(1-corr1/c))\n",
    "drift=nu*(nu_corr1-nu_corr0)/dur\n",
    "drift.decompose()\n"
   ]
  },
  {
   "cell_type": "markdown",
   "id": "a379d08c-68bd-4c4d-ba28-d55391e19e2b",
   "metadata": {},
   "source": [
    "Now you should be confused, because I said the Doppler drift would almost always be negative, and 3.23 Hz/s is larger than it should be and has the opposite sign that it should.\n",
    "\n",
    "That's because I deliberately made a mistake that crop up a lot in SETI.  I've calculated the Doppler drift using two different coordinates.  So I've calculated the Doppler drift of an object moving across the sky.  That's not what we're looking for.  If I calculate\n",
    "the doppler drif at the start and end position.  Lets start by defining a function for the Doppler drift."
   ]
  },
  {
   "cell_type": "code",
   "execution_count": 19,
   "id": "18801ebf-e48e-402c-a45d-970a19f2cf26",
   "metadata": {},
   "outputs": [],
   "source": [
    "\n",
    "def doppler_drift(pos, nu):\n",
    "  corr0=velcorr(pos.obstime-0.5*u.second,pos)\n",
    "  corr1=velcorr(pos.obstime+0.5*u.second,pos)\n",
    "  nu_corr0=math.sqrt((1+corr0/c)/(1-corr0/c))\n",
    "  nu_corr1=math.sqrt((1+corr1/c)/(1-corr1/c))\n",
    "  drift=nu*(nu_corr1-nu_corr0)/u.second\n",
    "  return drift\n"
   ]
  },
  {
   "cell_type": "code",
   "execution_count": 20,
   "id": "a8b25c2b-c883-49ec-ad93-cc215ff1fc74",
   "metadata": {},
   "outputs": [
    {
     "data": {
      "text/latex": [
       "$-0.13376319 \\; \\mathrm{\\frac{Hz}{s}}$"
      ],
      "text/plain": [
       "<Quantity -0.13376319 Hz / s>"
      ]
     },
     "execution_count": 20,
     "metadata": {},
     "output_type": "execute_result"
    }
   ],
   "source": [
    "drift0=doppler_drift(pos0,nu)\n",
    "drift0"
   ]
  },
  {
   "cell_type": "code",
   "execution_count": 21,
   "id": "caac6bfc",
   "metadata": {},
   "outputs": [
    {
     "data": {
      "text/latex": [
       "$-0.13389055 \\; \\mathrm{\\frac{Hz}{s}}$"
      ],
      "text/plain": [
       "<Quantity -0.13389055 Hz / s>"
      ]
     },
     "execution_count": 21,
     "metadata": {},
     "output_type": "execute_result"
    }
   ],
   "source": [
    "drift1=doppler_drift(pos1,nu)\n",
    "drift1"
   ]
  },
  {
   "cell_type": "markdown",
   "id": "a7572fc4-6439-4cb5-aea9-ff1b3ad150b0",
   "metadata": {},
   "source": [
    "Those are better answers...  So the average drift rate over the workunit is:"
   ]
  },
  {
   "cell_type": "code",
   "execution_count": 22,
   "id": "4548175f-1e92-4e7c-8607-9c9d5c173c8f",
   "metadata": {},
   "outputs": [
    {
     "data": {
      "text/latex": [
       "$-0.13382687 \\; \\mathrm{\\frac{Hz}{s}}$"
      ],
      "text/plain": [
       "<Quantity -0.13382687 Hz / s>"
      ]
     },
     "execution_count": 22,
     "metadata": {},
     "output_type": "execute_result"
    }
   ],
   "source": [
    "drift=(drift0+drift1)/2\n",
    "drift"
   ]
  },
  {
   "cell_type": "markdown",
   "id": "d95648f6-e5ff-4b3d-8ac5-94c45259cc18",
   "metadata": {},
   "source": [
    "Now we need to grab the data from the file"
   ]
  },
  {
   "cell_type": "code",
   "execution_count": 30,
   "id": "64cab871-fc77-4f7f-a67d-1d9848b8fe5e",
   "metadata": {},
   "outputs": [
    {
     "name": "stdout",
     "output_type": "stream",
     "text": [
      "<class 'bytes'>\n",
      "3132002\n",
      "<class 'list'>\n",
      "2097152\n",
      "0\n",
      "195\n",
      "127.23000431060791\n"
     ]
    }
   ],
   "source": [
    "f=open(\"work_unit.sah\",\"rb\")\n",
    "data=f.read()\n",
    "print(type(data))\n",
    "# The start is at 14919 bytes into the file \n",
    "# every file will be different!\n",
    "print(data.__len__())\n",
    "data=list(data[14918:14918+2*1024*1024])\n",
    "print(type(data))\n",
    "print(len(data))\n",
    "print(min(data))\n",
    "print(max(data))\n",
    "print(sum(data)/len(data))"
   ]
  },
  {
   "cell_type": "code",
   "execution_count": 31,
   "id": "68e9e9e3-2d50-4547-bba9-b26552d95a86",
   "metadata": {},
   "outputs": [
    {
     "data": {
      "text/plain": [
       "(array([1.49646e+05, 1.07173e+05, 1.13670e+05, 8.46360e+04, 8.08600e+04,\n",
       "        5.45170e+04, 4.81790e+04, 2.93360e+04, 2.34780e+04, 1.31740e+04,\n",
       "        9.52600e+03, 4.70000e+03, 3.13300e+03, 1.48700e+03, 8.33000e+02,\n",
       "        3.46000e+02, 1.99000e+02, 8.30000e+01, 3.70000e+01, 3.73600e+03,\n",
       "        1.81790e+04, 2.34050e+04, 3.95450e+04, 4.65400e+04, 7.08610e+04,\n",
       "        7.59510e+04, 1.06488e+05, 1.04631e+05, 1.35283e+05, 7.47520e+05]),\n",
       " array([  0. ,   6.5,  13. ,  19.5,  26. ,  32.5,  39. ,  45.5,  52. ,\n",
       "         58.5,  65. ,  71.5,  78. ,  84.5,  91. ,  97.5, 104. , 110.5,\n",
       "        117. , 123.5, 130. , 136.5, 143. , 149.5, 156. , 162.5, 169. ,\n",
       "        175.5, 182. , 188.5, 195. ]),\n",
       " <BarContainer object of 30 artists>)"
      ]
     },
     "execution_count": 31,
     "metadata": {},
     "output_type": "execute_result"
    },
    {
     "data": {
      "image/png": "[encoded data removed]",
      "text/plain": [
       "<Figure size 640x480 with 1 Axes>"
      ]
     },
     "metadata": {},
     "output_type": "display_data"
    }
   ],
   "source": [
    "import matplotlib.pyplot as plt\n",
    "%matplotlib inline\n",
    "plt.hist(data,bins=30, color='skyblue', edgecolor='black')"
   ]
  },
  {
   "cell_type": "code",
   "execution_count": 25,
   "id": "b625f5b7-2f36-4e10-94e9-668ef39c8c7b",
   "metadata": {},
   "outputs": [
    {
     "name": "stdout",
     "output_type": "stream",
     "text": [
      "2097152\n"
     ]
    }
   ],
   "source": [
    "print(data.__len__())"
   ]
  }
 ],
 "metadata": {
  "kernelspec": {
   "display_name": "Python 3 (ipykernel)",
   "language": "python",
   "name": "python3"
  },
  "language_info": {
   "codemirror_mode": {
    "name": "ipython",
    "version": 3
   },
   "file_extension": ".py",
   "mimetype": "text/x-python",
   "name": "python",
   "nbconvert_exporter": "python",
   "pygments_lexer": "ipython3",
   "version": "3.10.10"
  }
 },
 "nbformat": 4,
 "nbformat_minor": 5
}
